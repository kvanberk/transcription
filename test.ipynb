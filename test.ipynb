{
 "cells": [
  {
   "cell_type": "code",
   "execution_count": 10,
   "metadata": {},
   "outputs": [],
   "source": [
    "import whisper\n",
    "import pyaudio\n",
    "import wave"
   ]
  },
  {
   "cell_type": "code",
   "execution_count": 11,
   "metadata": {},
   "outputs": [],
   "source": [
    "model = whisper.load_model(\"tiny\")"
   ]
  },
  {
   "cell_type": "code",
   "execution_count": 14,
   "metadata": {},
   "outputs": [
    {
     "name": "stderr",
     "output_type": "stream",
     "text": [
      "c:\\Users\\maste\\Documents\\Coding\\Transcription\\.venv\\lib\\site-packages\\whisper\\transcribe.py:78: UserWarning: FP16 is not supported on CPU; using FP32 instead\n",
      "  warnings.warn(\"FP16 is not supported on CPU; using FP32 instead\")\n"
     ]
    }
   ],
   "source": [
    "result = model.transcribe(\"example_jp.mp3\")"
   ]
  },
  {
   "cell_type": "code",
   "execution_count": 20,
   "metadata": {},
   "outputs": [
    {
     "data": {
      "text/plain": [
       "\" The deeper it reaches, the more it returns. What? I should have such a bad eye. Maybe she was told me to do what she was thinking. Maybe I should have been good. zho, she should have come. Where? Oh, it seems it's actually ended. You have nothing left to tell me, porque he's Elle. Aw, wow! It's Unboxing! Shiko, she's just this way. She's better than me. But, you... We have to do a piece of the bird an Samantha. Don't be scared, Jos alpha, Koji, Kawaze, Kata. Don't be scared, o ww, oxi, Pava. Don't be scared. If you're on the Then,\""
      ]
     },
     "execution_count": 20,
     "metadata": {},
     "output_type": "execute_result"
    }
   ],
   "source": [
    "result[\"text\"]"
   ]
  },
  {
   "cell_type": "code",
   "execution_count": 63,
   "metadata": {},
   "outputs": [],
   "source": [
    "transcript = \"\"\n",
    "for segement in result[\"segments\"]:\n",
    "    start = segement[\"start\"]\n",
    "    end = segement[\"end\"]\n",
    "    text = segement[\"text\"]\n",
    "\n",
    "    formatted = \"[{0:.02f} - {1:.02f}]:{2}\\n\".format(start,end,text)\n",
    "    transcript += formatted"
   ]
  },
  {
   "cell_type": "code",
   "execution_count": 65,
   "metadata": {},
   "outputs": [],
   "source": [
    "from tempfile import NamedTemporaryFile"
   ]
  },
  {
   "cell_type": "code",
   "execution_count": 64,
   "metadata": {},
   "outputs": [
    {
     "name": "stdout",
     "output_type": "stream",
     "text": [
      "[0.00 - 4.46]: The deeper it reaches, the more it returns.\n",
      "[8.46 - 8.94]: What?\n",
      "[10.08 - 11.48]: I should have such a bad eye.\n",
      "[11.48 - 14.78]: Maybe she was told me to do what she was thinking.\n",
      "[17.14 - 18.94]: Maybe I should have been good.\n",
      "[19.02 - 21.72]: zho, she should have come.\n",
      "[21.72 - 22.82]: Where?\n",
      "[22.82 - 25.00]: Oh, it seems it's actually ended.\n",
      "[25.00 - 27.64]: You have nothing left to tell me, porque he's Elle.\n",
      "[27.82 - 29.12]: Aw, wow!\n",
      "[29.14 - 31.76]: It's Unboxing!\n",
      "[31.76 - 34.14]: Shiko, she's just this way.\n",
      "[34.14 - 35.54]: She's better than me.\n",
      "[35.54 - 37.66]: But, you...\n",
      "[37.70 - 40.16]: We have to do a piece of the bird an Samantha.\n",
      "[40.38 - 43.24]: Don't be scared, Jos alpha, Koji, Kawaze, Kata.\n",
      "[43.24 - 45.74]: Don't be scared, o ww, oxi, Pava.\n",
      "[45.74 - 47.00]: Don't be scared.\n",
      "[47.00 - 54.04]: If you're on the\n",
      "[54.04 - 77.76]: Then,\n",
      "\n"
     ]
    }
   ],
   "source": [
    "def create_temp(data, prefix, suffix, dir=\"./temp\", delete=False):\n",
    "    with NamedTemporaryFile(dir=dir, delete=delete, prefix=prefix, suffix=suffix) as temp:\n",
    "        temp.write(data)"
   ]
  },
  {
   "cell_type": "code",
   "execution_count": 15,
   "metadata": {},
   "outputs": [
    {
     "name": "stdout",
     "output_type": "stream",
     "text": [
      "Recording\n",
      "Finished recording\n"
     ]
    }
   ],
   "source": [
    "import pyaudio\n",
    "import wave\n",
    "\n",
    "chunk = 1024  # Record in chunks of 1024 samples\n",
    "sample_format = pyaudio.paInt16  # 16 bits per sample\n",
    "channels = 2\n",
    "fs = 44100  # Record at 44100 samples per second\n",
    "seconds = 3\n",
    "filename = \"example.wav\"\n",
    "\n",
    "p = pyaudio.PyAudio()  # Create an interface to PortAudio\n",
    "\n",
    "print('Recording')\n",
    "\n",
    "stream = p.open(format=sample_format,\n",
    "                channels=channels,\n",
    "                rate=fs,\n",
    "                frames_per_buffer=chunk,\n",
    "                input=True)\n",
    "\n",
    "frames = []  # Initialize array to store frames\n",
    "\n",
    "# Store data in chunks for 3 seconds\n",
    "for i in range(0, int(fs / chunk * seconds)):\n",
    "    data = stream.read(chunk)\n",
    "    frames.append(data)\n",
    "\n",
    "# Stop and close the stream \n",
    "stream.stop_stream()\n",
    "stream.close()\n",
    "# Terminate the PortAudio interface\n",
    "p.terminate()\n",
    "\n",
    "print('Finished recording')\n",
    "\n",
    "# Save the recorded data as a WAV file\n",
    "wf = wave.open(filename, 'wb')\n",
    "wf.setnchannels(channels)\n",
    "wf.setsampwidth(p.get_sample_size(sample_format))\n",
    "wf.setframerate(fs)\n",
    "wf.writeframes(b''.join(frames))\n",
    "wf.close()"
   ]
  },
  {
   "cell_type": "code",
   "execution_count": 16,
   "metadata": {},
   "outputs": [
    {
     "data": {
      "text/plain": [
       "<wave.Wave_write at 0x200b73058d0>"
      ]
     },
     "execution_count": 16,
     "metadata": {},
     "output_type": "execute_result"
    }
   ],
   "source": [
    "wf"
   ]
  }
 ],
 "metadata": {
  "kernelspec": {
   "display_name": "Python 3.10.6 ('.venv': venv)",
   "language": "python",
   "name": "python3"
  },
  "language_info": {
   "codemirror_mode": {
    "name": "ipython",
    "version": 3
   },
   "file_extension": ".py",
   "mimetype": "text/x-python",
   "name": "python",
   "nbconvert_exporter": "python",
   "pygments_lexer": "ipython3",
   "version": "3.10.6"
  },
  "orig_nbformat": 4,
  "vscode": {
   "interpreter": {
    "hash": "220cf14ac6f88d1024352e4aa2a3309a8c55891b16bcad11e6c6b923e6b47fb6"
   }
  }
 },
 "nbformat": 4,
 "nbformat_minor": 2
}
